{
 "cells": [
  {
   "cell_type": "code",
   "execution_count": 23,
   "metadata": {
    "collapsed": false
   },
   "outputs": [],
   "source": [
    "f1 = open(\"6.csv\",\"r\")\n",
    "f2 = open(\"new/6.csv\",\"w\")\n",
    "a = f1.readline()\n",
    "f2.write(a)\n",
    "# print(len(f1.readlines()))\n",
    "for i in range(0,1543):\n",
    "    k = f1.readline().split(\",\")\n",
    "    sum = 0\n",
    "    for j in range(1,11):\n",
    "        sum = sum+ float(k[j])\n",
    "    for j in range(1,11):\n",
    "        if(sum  != 0):\n",
    "            k[j] = float(k[j])/sum\n",
    "    f2.write(str(k)[1:-1]+\"\\n\")\n",
    "#     print(str(k)[1:-1]+\"\\n\")\n",
    "    \n",
    "        \n",
    "f1.close()\n",
    "f2.close()\n",
    "    \n",
    "\n",
    "# print(len(k))\n"
   ]
  },
  {
   "cell_type": "code",
   "execution_count": null,
   "metadata": {
    "collapsed": true
   },
   "outputs": [],
   "source": []
  },
  {
   "cell_type": "code",
   "execution_count": null,
   "metadata": {
    "collapsed": true
   },
   "outputs": [],
   "source": []
  }
 ],
 "metadata": {
  "kernelspec": {
   "display_name": "Python [Root]",
   "language": "python",
   "name": "Python [Root]"
  },
  "language_info": {
   "codemirror_mode": {
    "name": "ipython",
    "version": 3
   },
   "file_extension": ".py",
   "mimetype": "text/x-python",
   "name": "python",
   "nbconvert_exporter": "python",
   "pygments_lexer": "ipython3",
   "version": "3.5.2"
  }
 },
 "nbformat": 4,
 "nbformat_minor": 0
}
